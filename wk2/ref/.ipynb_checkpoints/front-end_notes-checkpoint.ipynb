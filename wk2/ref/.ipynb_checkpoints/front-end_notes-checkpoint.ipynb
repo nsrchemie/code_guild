{
 "cells": [
  {
   "cell_type": "markdown",
   "metadata": {},
   "source": [
    "# Links\n",
    "*http://javascript.crockford.com/\n",
    "* http://yuiblog.com/blog/2007/06/08/video-crockford-goodstuff/\n",
    "* http://www.dustindiaz.com/\n",
    "* http://www.dustindiaz.com/screencast-episode-01/\n",
    "* https://www.youtube.com/watch?v=hQVTIJBZook\n",
    "* https://developer.mozilla.org/en-US/docs/Web/JavaScript/Guide\n",
    "* http://coffeescript.org/\n",
    "* http://eloquentjavascript.net/\n",
    "* http://javascript.crockford.com/private.html\n",
    "* http://www.adequatelygood.com/JavaScript-Module-Pattern-In-Depth.html\n",
    "* github.com/mrdavidlaing/functional-koans\n",
    "* http://jenniferdewalt.com/\n",
    "* http://codepen.io/\n",
    "* https://medium.com/@fat/mediums-css-is-actually-pretty-fucking-good-b8e2a6c78b06\n",
    "* http://htmldog.com/\n",
    "* https://validator.w3.org/nu/\n",
    "* https://html5boilerplate.com/\n",
    "* http://getbootstrap.com/\n",
    "* https://jsfiddle.net/\n",
    "* http://processingjs.org/\n",
    "* https://color.adobe.com/create/color-wheel/?base=2&rule=Analogous&selected=2&name=My%20Color%20Theme&mode=rgb&rgbvalues=1,0.3270833333331894,0.050000000000000044,0.91,0.17157291666660116,0.04550000000000004,1,0,0,0.91,0.04550000000000004,0.4777500000001965,1,0.050000000000000044,0.999999999999784&swatchOrder=0,1,2,3,4\n",
    "* https://jigsaw.w3.org/css-validator/\n",
    "* https://rrrepo.co/repo/webdesign\n",
    "* http://bootsnipp.com/\n",
    "* http://startbootstrap.com/\n",
    "* http://exercism.io/\n",
    "* http://help.exercism.io/getting-started-with-javascript.html\n",
    "* http://www.csszengarden.com/\n",
    "* http://emmet.io/\n",
    "\n",
    "## Sublime notes\n",
    "* http://robdodson.me/sublime-text-2-tips-and-shortcuts/\n",
    "\n",
    "* Followed the google dev guide for the chrome dev tools. (see [this page](https://developers.google.com/web/tools/setup/workspace/setup-editor?hl=en) on how to set up sublime)\n",
    "* Installed sublime\n",
    "* Installed sublime package manager\n",
    "  * installed pyflakes\n",
    "  * installed csslint\n",
    "  * installed emmet"
   ]
  }
 ],
 "metadata": {
  "kernelspec": {
   "display_name": "Python 3",
   "language": "python",
   "name": "python3"
  },
  "language_info": {
   "codemirror_mode": {
    "name": "ipython",
    "version": 3
   },
   "file_extension": ".py",
   "mimetype": "text/x-python",
   "name": "python",
   "nbconvert_exporter": "python",
   "pygments_lexer": "ipython3",
   "version": "3.5.0"
  }
 },
 "nbformat": 4,
 "nbformat_minor": 0
}
