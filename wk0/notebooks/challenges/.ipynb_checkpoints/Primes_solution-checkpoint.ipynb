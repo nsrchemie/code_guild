{
 "cells": [
  {
   "cell_type": "code",
   "execution_count": 37,
   "metadata": {
    "collapsed": false
   },
   "outputs": [],
   "source": [
    "def list_primes(n):\n",
    "    \n",
    "    \"\"\"Takes an integer and returns all prime numbers less than it\n",
    "\n",
    "Parameters\n",
    "----------\n",
    "Input:\n",
    "n:Integer\n",
    "A number greater than 0\n",
    "\n",
    "\n",
    "Output:\n",
    "lst: list\n",
    "A list of integers that are listed up to the Integer/nearest prime number if the integer itself is not prime\n",
    "\n",
    "\"\"\"\n",
    "    lst = []\n",
    "    for i in range(2,n+1):\n",
    "        for num in range (2,i):\n",
    "            if i % num == 0:\n",
    "                break\n",
    "        else:\n",
    "                lst.append(i)            \n",
    "    return lst"
   ]
  },
  {
   "cell_type": "code",
   "execution_count": null,
   "metadata": {
    "collapsed": true
   },
   "outputs": [],
   "source": []
  },
  {
   "cell_type": "code",
   "execution_count": 38,
   "metadata": {
    "collapsed": false
   },
   "outputs": [
    {
     "data": {
      "text/plain": [
       "[2, 3, 5, 7, 11, 13, 17, 19, 23, 29, 31, 37, 41, 43, 47, 53]"
      ]
     },
     "execution_count": 38,
     "metadata": {},
     "output_type": "execute_result"
    }
   ],
   "source": [
    "list_primes(54)"
   ]
  },
  {
   "cell_type": "code",
   "execution_count": 39,
   "metadata": {
    "collapsed": false
   },
   "outputs": [
    {
     "name": "stdout",
     "output_type": "stream",
     "text": [
      "Overwriting test_list_primes.py\n"
     ]
    }
   ],
   "source": [
    "%%writefile test_list_primes.py\n",
    "from nose.tools import assert_equal\n",
    "\n",
    "\n",
    "class Test_list_primes(object):\n",
    "\n",
    "    def test_list_primes(self):\n",
    "        assert_equal(list_primes(1), [])\n",
    "        assert_equal(list_primes(2), [2])\n",
    "        assert_equal(list_primes(7), [2, 3, 5, 7])\n",
    "        assert_equal(list_primes(9), list_primes(7))\n",
    "        print('Success: test_list_primes')\n",
    "\n",
    "\n",
    "def main():\n",
    "    test = Test_list_primes()\n",
    "    test.test_list_primes()\n",
    "\n",
    "\n",
    "if __name__ == '__main__':\n",
    "    main()"
   ]
  },
  {
   "cell_type": "code",
   "execution_count": null,
   "metadata": {
    "collapsed": true
   },
   "outputs": [],
   "source": []
  },
  {
   "cell_type": "code",
   "execution_count": null,
   "metadata": {
    "collapsed": true
   },
   "outputs": [],
   "source": []
  }
 ],
 "metadata": {
  "kernelspec": {
   "display_name": "Python 3",
   "language": "python",
   "name": "python3"
  },
  "language_info": {
   "codemirror_mode": {
    "name": "ipython",
    "version": 3
   },
   "file_extension": ".py",
   "mimetype": "text/x-python",
   "name": "python",
   "nbconvert_exporter": "python",
   "pygments_lexer": "ipython3",
   "version": "3.4.3"
  }
 },
 "nbformat": 4,
 "nbformat_minor": 0
}
