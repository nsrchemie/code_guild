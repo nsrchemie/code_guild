{
 "cells": [
  {
   "cell_type": "code",
   "execution_count": 44,
   "metadata": {
    "collapsed": false
   },
   "outputs": [],
   "source": [
    "def dct_make(n):\n",
    "    \"\"\"Takes a string and loops through each character, counting and adding them to a dictionary\n",
    "    \n",
    "    Parameters\n",
    "    ----------\n",
    "    Input: \n",
    "    n: Str\n",
    "    A sequence of characters\n",
    "    \n",
    "    Output:\n",
    "    dct: Dictionary\n",
    "    A dictionary of letters and their counts\n",
    "    \n",
    "    \"\"\"\n",
    "    dct = {}\n",
    "    for elem in n:\n",
    "        dct[elem] = dct.get(elem,0) + 1 #Check each character, if it isnt in the dictionary then create a key and count 1\n",
    "    return dct\n",
    "\n",
    "def conv_int(dct):\n",
    "    \"\"\"Takes a dictionary of characters and counts and converts the counts(integers) into strings\n",
    "    \n",
    "    Parameters\n",
    "    ----------\n",
    "    Input:\n",
    "    dct: Dictionary\n",
    "    A dictionary of string letter keys ('a','b','c') and integer values (1,2,3)\n",
    "    \n",
    "    Output:\n",
    "    dct1: Dictionary\n",
    "    A dictionary of string letter keys and string values e.g. {'a':'1','c':'7','b':'23'}\n",
    "    \n",
    "    \n",
    "    \"\"\"\n",
    "    dct1 = {k:str(v) for k,v in dct.items()} #Loop through the values associated with each Key,val pair and convert them to integers\n",
    "    return dct1\n",
    "\n",
    "def str_prep(dct1):\n",
    "    \"\"\"Take an empty string and appends to it keys and values from a dictionary\n",
    "    \n",
    "    Parameters\n",
    "    ----------\n",
    "    Input:\n",
    "    dct1: Dictionary\n",
    "    A dictionary of string characters and numbers\n",
    "    \n",
    "    Output:\n",
    "    final_string: Str\n",
    "    A sequence of alternating alphabetic characters followwed by their corresponding numerical counts\n",
    "    \n",
    "    e.g. 'a4b1f3'\n",
    "    \"\"\"\n",
    "    final_string = \"\"\n",
    "    for elem in sorted(dct1):\n",
    "        final_string += '%s%s' % (elem, dct1[elem]) #Loop through elements in a sorted list made from \n",
    "    return final_string #the dictionary and append the keys followed by values to an empty string\n",
    "\n",
    "def compress(n):\n",
    "    \"\"\"Takes a string and returns the letters found in it and their counts if the length of the outputted string is \n",
    "    less than the length of the original string\n",
    "    \n",
    "    e.g. 'aaabbbccc' ---> 'a3b3c3'\n",
    "    'aabb' ---> 'aabb'\n",
    "    \n",
    "    Parameters\n",
    "    ----------\n",
    "    Input:\n",
    "    n:Str\n",
    "    A sequence of characters\n",
    "    \n",
    "    Output:\n",
    "    final_string: Str\n",
    "    A sequence of characters composed of letters and numerical counts\n",
    "    \n",
    "    \"\"\"\n",
    "    \n",
    "    dct = dct_make(n)\n",
    "    dct1 = conv_int(dct)\n",
    "    final_string = str_prep(dct1)\n",
    "\n",
    "    if len(final_string) < len(n):\n",
    "        return final_string\n",
    "    else:\n",
    "        return n"
   ]
  },
  {
   "cell_type": "code",
   "execution_count": 45,
   "metadata": {
    "collapsed": false
   },
   "outputs": [
    {
     "data": {
      "text/plain": [
       "'a3b4c2'"
      ]
     },
     "execution_count": 45,
     "metadata": {},
     "output_type": "execute_result"
    }
   ],
   "source": [
    "compress('aaabbbbcc')"
   ]
  },
  {
   "cell_type": "code",
   "execution_count": 50,
   "metadata": {
    "collapsed": false
   },
   "outputs": [
    {
     "name": "stdout",
     "output_type": "stream",
     "text": [
      "Compress tests passed\n"
     ]
    }
   ],
   "source": [
    "\n",
    "#assert compress(None) == None\n",
    "assert compress('aabb') == 'aabb'\n",
    "assert compress('aaaaagggggggeeeee') == 'a5e5g7'\n",
    "\n",
    "print('Compress tests passed')"
   ]
  },
  {
   "cell_type": "code",
   "execution_count": null,
   "metadata": {
    "collapsed": true
   },
   "outputs": [],
   "source": []
  },
  {
   "cell_type": "code",
   "execution_count": null,
   "metadata": {
    "collapsed": true
   },
   "outputs": [],
   "source": []
  }
 ],
 "metadata": {
  "kernelspec": {
   "display_name": "Python 3",
   "language": "python",
   "name": "python3"
  },
  "language_info": {
   "codemirror_mode": {
    "name": "ipython",
    "version": 3
   },
   "file_extension": ".py",
   "mimetype": "text/x-python",
   "name": "python",
   "nbconvert_exporter": "python",
   "pygments_lexer": "ipython3",
   "version": "3.4.3"
  }
 },
 "nbformat": 4,
 "nbformat_minor": 0
}
