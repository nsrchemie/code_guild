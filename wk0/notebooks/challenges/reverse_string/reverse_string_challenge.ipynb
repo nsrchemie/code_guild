{
 "cells": [
  {
   "cell_type": "markdown",
   "metadata": {},
   "source": [
    "<small><i>This notebook was prepared by [Donne Martin](http://donnemartin.com). Source and license info is on [GitHub](https://github.com/donnemartin/interactive-coding-challenges).</i></small>"
   ]
  },
  {
   "cell_type": "markdown",
   "metadata": {},
   "source": [
    "# Challenge Notebook"
   ]
  },
  {
   "cell_type": "markdown",
   "metadata": {},
   "source": [
    "## Problem: Implement a function to reverse a string (a list of characters), in-place.\n",
    "\n",
    "* [Constraints](#Constraints)\n",
    "* [Test Cases](#Test-Cases)\n",
    "* [Algorithm](#Algorithm)\n",
    "* [Code](#Code)\n",
    "* [Unit Test](#Unit-Test)\n",
    "* [Solution Notebook](#Solution-Notebook)"
   ]
  },
  {
   "cell_type": "markdown",
   "metadata": {},
   "source": [
    "## Constraints\n",
    "\n",
    "* Can I assume the string is ASCII?\n",
    "    * Yes\n",
    "    * Note: Unicode strings could require special handling depending on your language\n",
    "\n",
    "* Since Python string are immutable, can I use a list of characters instead?\n",
    "    * Yes"
   ]
  },
  {
   "cell_type": "markdown",
   "metadata": {},
   "source": [
    "## Test Cases\n",
    "\n",
    "* None -> None\n",
    "* [''] -> ['']\n",
    "* ['f', 'o', 'o', ' ', 'b', 'a', 'r'] -> ['r', 'a', 'b', ' ', 'o', 'o', 'f']"
   ]
  },
  {
   "cell_type": "markdown",
   "metadata": {},
   "source": [
    "## Algorithm\n",
    "\n",
    "If you finish this quickly, try implementing three different ways."
   ]
  },
  {
   "cell_type": "markdown",
   "metadata": {},
   "source": [
    "## Code"
   ]
  },
  {
   "cell_type": "code",
   "execution_count": 21,
   "metadata": {
    "collapsed": false
   },
   "outputs": [],
   "source": [
    "'''b = list(list_chars)\n",
    "    b.reverse()\n",
    "    \n",
    "    if (list_chars is None):\n",
    "        return None\n",
    "    if (None != ['']):\n",
    "        return ['']\n",
    "    else:\n",
    "        return b'''"
   ]
  },
  {
   "cell_type": "code",
   "execution_count": 1,
   "metadata": {
    "collapsed": false
   },
   "outputs": [
    {
     "data": {
      "text/plain": [
       "'if list_chars:\\n       return list_chars[::-1]\\n   else:\\n       return None'"
      ]
     },
     "execution_count": 1,
     "metadata": {},
     "output_type": "execute_result"
    }
   ],
   "source": [
    "def list_of_chars(list_chars):\n",
    "    if list_chars:\n",
<<<<<<< HEAD
    "        list_chars.reverse()\n",
    "        return list_chars\n",
    "    else:\n",
    "        return None\n",
    "    \n",
    "'''if list_chars:\n",
    "       return list_chars[::-1]\n",
    "   else:\n",
    "       return None'''"
=======
    "        return list_chars[::-1]\n",
    "    else:\n",
    "        return None"
>>>>>>> 5e7fdc04cf0e766bc925bfc42707f38a805d00dc
   ]
  },
  {
   "cell_type": "code",
<<<<<<< HEAD
   "execution_count": 2,
=======
   "execution_count": 47,
>>>>>>> 5e7fdc04cf0e766bc925bfc42707f38a805d00dc
   "metadata": {
    "collapsed": false
   },
   "outputs": [
    {
<<<<<<< HEAD
     "data": {
      "text/plain": [
       "\"lst = ['a','e','y']\\nlst2 = []\\nwhile len(lst)>0:\\n       lst2.append(lst.pop())\\n       \\nlst2\\n       \""
      ]
     },
     "execution_count": 2,
     "metadata": {},
     "output_type": "execute_result"
    }
   ],
   "source": [
    "\"\"\"lst = ['a','e','y']\n",
    "lst2 = []\n",
    "while len(lst)>0:\n",
    "       lst2.append(lst.pop())\n",
    "       \n",
    "lst2\n",
    "       \"\"\""
   ]
  },
  {
   "cell_type": "code",
   "execution_count": 3,
   "metadata": {
    "collapsed": false
   },
   "outputs": [
    {
     "data": {
      "text/plain": [
       "\"def dumb(anything):\\n    return 2\\n\\nassert dumb(10) == 2\\ndumb('b') == 2\\n\\nassert_equal(dumb('b'), 3)\""
      ]
     },
     "execution_count": 3,
     "metadata": {},
     "output_type": "execute_result"
    }
   ],
   "source": [
    "\"\"\"def dumb(anything):\n",
    "    return 2\n",
    "\n",
    "assert dumb(10) == 2\n",
    "dumb('b') == 2\n",
    "\n",
    "assert_equal(dumb('b'), 3)\"\"\""
   ]
  },
  {
   "cell_type": "code",
   "execution_count": 5,
   "metadata": {
    "collapsed": false
   },
   "outputs": [
    {
     "data": {
      "text/plain": [
       "\"def f(lst):\\n    #Return reverse list\\n    pass\\n\\ndef f_list_test():\\n    assert f([1,2,3]) == [3,2,1]\\n\\ndef f_num_test():\\n    assert f(3) == None\\n    \\ndef f_string_test():\\n    assert f('a') == None\\n    \\nf_list_test()\""
      ]
     },
     "execution_count": 5,
     "metadata": {},
     "output_type": "execute_result"
    }
   ],
   "source": [
    "\"\"\"def f(lst):\n",
    "    #Return reverse list\n",
    "    pass\n",
    "\n",
    "def f_list_test():\n",
    "    assert f([1,2,3]) == [3,2,1]\n",
    "\n",
    "def f_num_test():\n",
    "    assert f(3) == None\n",
    "    \n",
    "def f_string_test():\n",
    "    assert f('a') == None\n",
    "    \n",
    "f_list_test()\"\"\""
=======
     "name": "stdout",
     "output_type": "stream",
     "text": [
      "6 hi\n",
      "6 ho\n",
      "7 hi\n",
      "7 di\n",
      "8 hi\n",
      "8 ho\n",
      "9 hi\n",
      "9 di\n"
     ]
    }
   ],
   "source": [
    "for x in range(10):\n",
    "    if x > 5:\n",
    "        print(x, 'hi')\n",
    "        if x % 2 == 0:\n",
    "            print(x, 'ho')\n",
    "        else:\n",
    "            print(x, 'di')"
>>>>>>> 5e7fdc04cf0e766bc925bfc42707f38a805d00dc
   ]
  },
  {
   "cell_type": "markdown",
   "metadata": {},
   "source": [
    "## Unit Test"
   ]
  },
  {
   "cell_type": "code",
   "execution_count": null,
   "metadata": {
    "collapsed": false
   },
   "outputs": [],
   "source": [
    "\n"
   ]
  },
  {
   "cell_type": "markdown",
   "metadata": {},
   "source": [
    "\n",
    "\n",
    "**The following unit test is expected to fail until you solve the challenge.**"
   ]
  },
  {
   "cell_type": "code",
<<<<<<< HEAD
   "execution_count": 6,
=======
   "execution_count": 23,
>>>>>>> 5e7fdc04cf0e766bc925bfc42707f38a805d00dc
   "metadata": {
    "collapsed": false,
    "scrolled": true
   },
   "outputs": [
    {
     "name": "stdout",
     "output_type": "stream",
     "text": [
      "Success: test_reverse\n"
     ]
    }
   ],
   "source": [
    "# %load test_reverse_string.py\n",
    "from nose.tools import assert_equal\n",
    "\n",
    "\n",
    "class TestReverse(object):\n",
    "\n",
    "    def test_reverse(self):\n",
    "        assert_equal(list_of_chars(None), None)\n",
    "        assert_equal(list_of_chars(['']), [''])\n",
    "        assert_equal(list_of_chars(\n",
    "            ['f', 'o', 'o', ' ', 'b', 'a', 'r']),\n",
    "            ['r', 'a', 'b', ' ', 'o', 'o', 'f'])\n",
    "        print('Success: test_reverse')\n",
    "\n",
    "\n",
    "def main():\n",
    "    test = TestReverse()\n",
    "    test.test_reverse()\n",
    "\n",
    "\n",
    "if __name__ == '__main__':\n",
    "    main()"
   ]
  },
  {
   "cell_type": "markdown",
   "metadata": {},
   "source": [
    "## Solution Notebook\n",
    "\n",
    "Review the [Solution Notebook](http://nbviewer.ipython.org/github/donnemartin/interactive-coding-challenges/blob/master/arrays_strings/reverse_string/reverse_string_solution.ipynb) for a discussion on algorithms and code solutions."
   ]
  },
  {
   "cell_type": "code",
   "execution_count": null,
   "metadata": {
    "collapsed": true
   },
   "outputs": [],
   "source": []
  },
  {
   "cell_type": "code",
   "execution_count": null,
   "metadata": {
    "collapsed": true
   },
   "outputs": [],
   "source": []
  }
 ],
 "metadata": {
  "kernelspec": {
   "display_name": "Python 3",
   "language": "python",
   "name": "python3"
  },
  "language_info": {
   "codemirror_mode": {
    "name": "ipython",
    "version": 3
   },
   "file_extension": ".py",
   "mimetype": "text/x-python",
   "name": "python",
   "nbconvert_exporter": "python",
   "pygments_lexer": "ipython3",
<<<<<<< HEAD
   "version": "3.4.3"
=======
   "version": "3.5.0"
>>>>>>> 5e7fdc04cf0e766bc925bfc42707f38a805d00dc
  }
 },
 "nbformat": 4,
 "nbformat_minor": 0
}
