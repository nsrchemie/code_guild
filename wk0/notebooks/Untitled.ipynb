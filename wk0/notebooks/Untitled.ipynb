{
 "cells": [
  {
   "cell_type": "code",
   "execution_count": 70,
   "metadata": {
    "collapsed": false
   },
   "outputs": [],
   "source": [
    "def main():\n",
    "\tdef param():\n",
    "\t\trate = int(input('Enter Rate: '))\n",
    "\t\thours = int(input('Enter Hours: '))\n",
    "            return param()\n",
    "\n",
    "\tdef wage(rate,hours):\n",
    "\t\tpay=rate*hours\n",
    "\t\treturn wage()\n",
    "\n",
    "\tdef OT(pay):\n",
    "\t\tpay = rate*1.5\n",
    "\t\treturn pay\n",
    "print ('Pay: ',pay)"
   ]
  },
  {
   "cell_type": "code",
   "execution_count": 71,
   "metadata": {
    "collapsed": false
   },
   "outputs": [],
   "source": []
  },
  {
   "cell_type": "code",
   "execution_count": 73,
   "metadata": {
    "collapsed": false
   },
   "outputs": [
    {
     "ename": "IndentationError",
     "evalue": "unindent does not match any outer indentation level (<ipython-input-73-34bda054f5af>, line 4)",
     "output_type": "error",
     "traceback": [
      "\u001b[1;36m  File \u001b[1;32m\"<ipython-input-73-34bda054f5af>\"\u001b[1;36m, line \u001b[1;32m4\u001b[0m\n\u001b[1;33m    return (rate,hours)\u001b[0m\n\u001b[1;37m                       ^\u001b[0m\n\u001b[1;31mIndentationError\u001b[0m\u001b[1;31m:\u001b[0m unindent does not match any outer indentation level\n"
     ]
    }
   ],
   "source": []
  },
  {
   "cell_type": "code",
   "execution_count": null,
   "metadata": {
    "collapsed": true
   },
   "outputs": [],
   "source": [
    "def total_net(hours,rate):\n",
    "\treg_hours = 8\n",
    "\tot_hours = hours - reg_hours\n",
    "\tif ot_hours <= reg_hours:\n",
    "\t\tbreak\n",
    "\tot_rate = 1.5*rate\n",
    "\ttotal_net=rate*reg_hours+ot_rate*ot_hours\n",
    "\treturn total_net\n",
    "\t\n",
    "print (total_net(10,10))\n"
   ]
  },
  {
   "cell_type": "code",
   "execution_count": null,
   "metadata": {
    "collapsed": true
   },
   "outputs": [],
   "source": []
  },
  {
   "cell_type": "code",
   "execution_count": null,
   "metadata": {
    "collapsed": true
   },
   "outputs": [],
   "source": []
  }
 ],
 "metadata": {
  "kernelspec": {
   "display_name": "Python 3",
   "language": "python",
   "name": "python3"
  },
  "language_info": {
   "codemirror_mode": {
    "name": "ipython",
    "version": 3
   },
   "file_extension": ".py",
   "mimetype": "text/x-python",
   "name": "python",
   "nbconvert_exporter": "python",
   "pygments_lexer": "ipython3",
   "version": "3.4.3"
  }
 },
 "nbformat": 4,
 "nbformat_minor": 0
}
