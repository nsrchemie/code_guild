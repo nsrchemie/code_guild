{
 "cells": [
  {
   "cell_type": "markdown",
   "metadata": {},
   "source": [
    "# wk1.3\n",
    "\n",
    "# warm - up\n",
    "\n",
    "* Create a dictionary called numbers with the keys 'one', 'two', 'three', and associated values 1, 2, 3 three different ways.\n",
    "* Get the value from the dictionary for key 'one'.\n",
    "* Update the value for key 'two' to 'dos'\n",
    "* Add a new key value pair for 'four'/4\n",
    "* delete the key value pair 'one'/1\n",
    "* iterate over all the keys using a for loop\n",
    "* iterate over all the values using a for loop\n",
    "* iterate over all the key/value pairs (as a tuple) with a for loop (two different ways)\n",
    "* Dictionary keys can be mutable (True/False?).\n",
    "* Dictionary values can be mutable (True/False?).\n",
    "* Dictionaries are an example of a homogeneous datatype (True/False?).\n",
    "* Looking up a value in a list is generally faster than looking up a value in a dictionary (True/False?).\n",
    "* Suppose I set dict2 = numbers. If I change dict2 will numbers stay the same? Why or why not?\n",
    "\n",
    "# Morning activity: pair code review\n",
    "\n",
    "Pair up with another group and review each others code.\n",
    "\n",
    "## Grading\n",
    "\n",
    ">35 points possible\n",
    "15: Program runs and consistently produces correct output for any scrambled word and any list of words.\n",
    "\n",
    ">5 point penalty for any of the following:\n",
    "\n",
    ">* Test cases running in addition to program functionality. (You need to 'comment out' any 'test' print statements for your final testing and turn-in.)\n",
    "* Incorrect or missing counts of emails or dates.\n",
    "* Other extra output, missing output, or output formatted differently than the examples above.\n",
    "* 10: Follows PEP8 coding guidelines, including author identification and header.\n",
    "* 10: Clarity. The program should not only be consistent with the requirements and approach described here, but it should be very easy to read the program and verify its consistency with the spec.\n",
    "\n",
    "# Afternoon\n",
    "\n",
    "# a word on namespaces\n",
    "# Some tips on file i/o\n",
    "# Next pair project: Jumbler"
   ]
  },
  {
   "cell_type": "code",
   "execution_count": null,
   "metadata": {
    "collapsed": true
   },
   "outputs": [],
   "source": []
  }
 ],
 "metadata": {
  "kernelspec": {
   "display_name": "Python 3",
   "language": "python",
   "name": "python3"
  },
  "language_info": {
   "codemirror_mode": {
    "name": "ipython",
    "version": 3
   },
   "file_extension": ".py",
   "mimetype": "text/x-python",
   "name": "python",
   "nbconvert_exporter": "python",
   "pygments_lexer": "ipython3",
   "version": "3.5.0"
  }
 },
 "nbformat": 4,
 "nbformat_minor": 0
}
