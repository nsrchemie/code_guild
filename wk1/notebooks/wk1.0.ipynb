{
 "cells": [
  {
   "cell_type": "markdown",
   "metadata": {},
   "source": [
    "# Wk1.0"
   ]
  },
  {
   "cell_type": "markdown",
   "metadata": {},
   "source": [
    "# Warm-up: I got 32767 problems and overflow is one of them.\n",
    "\n",
    "![](http://www.explainxkcd.com/wiki/images/c/cc/cant_sleep.png)\n",
    "\n",
    "## 1. Swap the values of two variables, a and b without using a temporary variable.\n",
    "\n",
    "## 2. Suppose I had six different sodas. In how many different combinations could I drink the sodas? Write a program that calculates the number of unique combinations for 6 objects. Assume that I finish a whole sode before moving onto another one."
   ]
  },
  {
   "cell_type": "code",
   "execution_count": 13,
   "metadata": {
    "collapsed": false
   },
   "outputs": [
    {
     "name": "stdout",
     "output_type": "stream",
     "text": [
      "6\n"
     ]
    }
   ],
   "source": [
    "count = 1\n",
    "for elem in range(1, 3 + 1):\n",
    "    count *= elem\n",
    "    \n",
    "print(count)"
   ]
  },
  {
   "cell_type": "markdown",
   "metadata": {},
   "source": [
    "## 3. Extend your program to n objects. How many different combinations do I have for 5 objects? How about 15? What is the max number of objects I could calculate for if I was storing the result in a 32 bit integer? What happens if the combinations exceed 32 bits?"
   ]
  },
  {
   "cell_type": "code",
   "execution_count": 14,
   "metadata": {
    "collapsed": false
   },
   "outputs": [
    {
     "data": {
      "text/plain": [
       "6"
      ]
     },
     "execution_count": 14,
     "metadata": {},
     "output_type": "execute_result"
    }
   ],
   "source": [
    "from math import factorial as f\n",
    "\n",
    "f(3)"
   ]
  },
  {
   "cell_type": "markdown",
   "metadata": {},
   "source": [
    "## 4. What will the following code yield? Was it what you expected? What's going on here?\n",
    "\n",
    "```\n",
    ".1 + .1 + .1 == .3\n",
    "```"
   ]
  },
  {
   "cell_type": "code",
   "execution_count": 4,
   "metadata": {
    "collapsed": false
   },
   "outputs": [
    {
     "data": {
      "text/plain": [
       "1e+19"
      ]
     },
     "execution_count": 4,
     "metadata": {},
     "output_type": "execute_result"
    }
   ],
   "source": [
    ".1*10**20\n"
   ]
  },
  {
   "cell_type": "markdown",
   "metadata": {},
   "source": [
    "## 5. Try typing in the command below and read [this page](https://docs.python.org/3/library/string.html#formatspec)\n",
    "```\n",
    "format(.1, '.100g')\n",
    "```\n",
    "\n",
    "# Data structure of the day: tuples\n",
    "\n",
    "* Switching variables: a second look\n",
    "* How do we make a single tuple?\n",
    "* slicing, indexing\n",
    "* mutability\n",
    "* tuple packing and unpacking\n",
    "  * using tuples in loops\n",
    "  * using tuples to unpack enumerate(lst)\n",
    "* tuples as return values\n",
    "* comparing tuples\n",
    "```\n",
    "(0, 1, 2000000) < (0, 3, 4)\n",
    "```\n",
    "* Design pattern: DSU \n",
    "  * Decorate\n",
    "  * Sort\n",
    "  * Undecorate\n",
    "  \n",
    "Ex.\n",
    "```\n",
    "txt = 'but soft what light in yonder window breaks'\n",
    "words = txt.split()\n",
    "t = list()\n",
    "for word in words:\n",
    "   t.append((len(word), word))\n",
    "\n",
    "t.sort(reverse=True)\n",
    "\n",
    "res = list()\n",
    "for length, word in t:\n",
    "    res.append(word)\n",
    "\n",
    "print(res)\n",
    "```\n",
    "\n",
    "Why would words.sort() not work?\n",
    "\n",
    "* We can use tuples as a way to store related data\n",
    "```\n",
    "addr = 'monty@python.org'\n",
    "uname, domain = addr.split('@')\n",
    "```\n",
    "* Advanced: tuples as argument parameters\n",
    "```\n",
    "t = (a, b, c)\n",
    "func(*t)\n",
    "```"
   ]
  },
  {
   "cell_type": "markdown",
   "metadata": {},
   "source": [
    "# Tuples: exercises\n",
    "\n",
    "# Exercise 1 \n",
    "\n",
    "Revise a previous program as follows: Read and parse the \"From\" lines and pull out the addresses from the line. Count the number of messages from each person using a dictionary.\n",
    "\n",
    "After all the data has been read print the person with the most commits by creating a list of (count, email) tuples from the dictionary and then sorting the list in reverse order and print out the person who has the most commits.\n",
    "\n",
    "```\n",
    "Sample Line:\n",
    "From stephen.marquard@uct.ac.za Sat Jan  5 09:14:16 2008\n",
    "\n",
    "Enter a file name: mbox-short.txt\n",
    "cwen@iupui.edu 5\n",
    "\n",
    "Enter a file name: mbox.txt\n",
    "zqian@umich.edu 195\n",
    "```\n",
    "\n",
    "## Exercise 2\n",
    "This program counts the distribution of the hour of the day for each of the messages. You can pull the hour from the \"From\" line by finding the time string and then splitting that string into parts using the colon character. Once you have accumulated the counts for each hour, print out the counts, one per line, sorted by hour as shown below.\n",
    "\n",
    "```\n",
    "Sample Execution:\n",
    "python timeofday.py\n",
    "Enter a file name: mbox-short.txt\n",
    "04 3\n",
    "06 1\n",
    "07 1\n",
    "09 2\n",
    "10 3\n",
    "11 6\n",
    "14 1\n",
    "15 2\n",
    "16 4\n",
    "17 2\n",
    "18 1\n",
    "19 1\n",
    "```\n",
    "## Exercise 3 \n",
    "Write a program that reads a file and prints the letters in decreasing order of frequency. Your program should convert all the input to lower case and only count the letters a-z. Your program should not count spaces, digits, punctuation or anything other than the letters a-z. Find text samples from several different languages and see how letter frequency varies between languages. Compare your results with the tables at wikipedia.org/wiki/Letter_frequencies."
   ]
  },
  {
   "cell_type": "markdown",
   "metadata": {},
   "source": [
    "# Afternoon warm-up\n",
    "\n",
    "## Write a function that takes three numbers $x_1, x_2, x_3$ from a user and returns the max value. Don't use the built in max function. Would your function work on more than three values?"
   ]
  },
  {
   "cell_type": "code",
   "execution_count": 40,
   "metadata": {
    "collapsed": false
   },
   "outputs": [],
   "source": [
    "def n_max():\n",
    "    inpt = eval(input(\"Please enter some values: \"))\n",
    "    maximum = max_val(inpt)\n",
    "    print(\"The largest value is\", maximum)\n",
    "    \n",
    "def max_val(ints):\n",
    "    \"\"\"Input: collection of ints.\n",
    "    Returns: maximum of the collection\n",
    "    int - the max integer.\"\"\"\n",
    "    max = ints[0]\n",
    "    for x in ints:\n",
    "        if x > max:\n",
    "            max = x\n",
    "    return max\n",
    "        \n",
    "    \n",
    "\n",
    "assert max_val([1, 2, 3]) == 3\n",
    "assert max_val([1, 1, 1]) == 1\n",
    "assert max_val([1, 2, 2]) == 2"
   ]
  },
  {
   "cell_type": "code",
   "execution_count": 41,
   "metadata": {
    "collapsed": false
   },
   "outputs": [
    {
     "name": "stdout",
     "output_type": "stream",
     "text": [
      "Please enter some values: 1,2,1313\n",
      "The largest value is 1313\n"
     ]
    }
   ],
   "source": [
    "n_max()"
   ]
  },
  {
   "cell_type": "code",
   "execution_count": 31,
   "metadata": {
    "collapsed": false
   },
   "outputs": [
    {
     "name": "stdout",
     "output_type": "stream",
     "text": [
      "Please enter three values: 1,2,3,4,5,6,7\n"
     ]
    }
   ],
   "source": [
    "inpt =  eval(input(\"Please enter three values: \"))"
   ]
  },
  {
   "cell_type": "code",
   "execution_count": 34,
   "metadata": {
    "collapsed": false
   },
   "outputs": [
    {
     "data": {
      "text/plain": [
       "[1, 2, 3, 4, 5, 6, 7]"
      ]
     },
     "execution_count": 34,
     "metadata": {},
     "output_type": "execute_result"
    }
   ],
   "source": [
    "list(inpt)"
   ]
  },
  {
   "cell_type": "markdown",
   "metadata": {},
   "source": [
    "Strategy 1: Compare each to all (brute force)\n",
    "\n",
    "Strategy 2: Decision Tree\n",
    "\n",
    "Strategy 3: Sequential processing\n",
    "\n",
    "Strategy 4: Use python"
   ]
  },
  {
   "cell_type": "markdown",
   "metadata": {},
   "source": [
    "## The development process\n",
    "\n",
    "![](https://upload.wikimedia.org/wikipedia/commons/9/9c/Test-driven_development.PNG)\n",
    "\n",
    "# A Problem Solving Algorithm\n",
    "\n",
    "* See [Polya's *How to Solve it*](https://en.wikipedia.org/wiki/How_to_Solve_It)\n",
    "\n",
    "## 1. Understand the problem\n",
    "## 2. Brainstorm on paper\n",
    "## 3. Plan out program\n",
    "## 4. Refine design\n",
    "## 5. Create function\n",
    "## 6. Create function docstring\n",
    "## 7. Create function tests\n",
    "## 8. Check that tests fail\n",
    "## 9. If function is trivial, then solve it (i.e. get function tests to pass). Else, create sub-function (aka divide and conquer) and repeat steps 5-8."
   ]
  },
  {
   "cell_type": "markdown",
   "metadata": {},
   "source": [
    "# Example: Compress\n"
   ]
  },
  {
   "cell_type": "code",
   "execution_count": null,
   "metadata": {
    "collapsed": true
   },
   "outputs": [],
   "source": [
    "assert compress('AAAADDBBBBBCCEAA') == 'A4D2B5C2E1A2'"
   ]
  },
  {
   "cell_type": "code",
   "execution_count": 68,
   "metadata": {
    "collapsed": true
   },
   "outputs": [],
   "source": [
    "# %load ../scripts/compress/compressor.py\n",
    "    \n",
    "def groupby_char(lst):\n",
    "    \"\"\"Returns a list of strings containing identical characters.\n",
    "    \n",
    "    Takes a list of characters produced by running split on a string.\n",
    "    Groups runs (in order sequences) of identical characters into string elements in the list.\n",
    "    \n",
    "    Parameters\n",
    "    ---------\n",
    "    Input:\n",
    "    lst: list\n",
    "    A list of single character strings.\n",
    "    \n",
    "    Output:\n",
    "    grouped: list\n",
    "    A list of strings containing grouped characters.\"\"\"\n",
    "\n",
    "    new_lst = []\n",
    "\n",
    "    count = 1\n",
    "\n",
    "    for i in range(len(lst) - 1): # we range to the second to last index since we're checking if lst[i] == lst[i + 1]. \n",
    "        if lst[i] == lst[i + 1]:\n",
    "            count += 1        \n",
    "        else:\n",
    "            new_lst.append([lst[i],count]) # Create a lst of lists. Each list contains a character and the count of adjacent identical characters.\n",
    "            count = 1\n",
    "            \n",
    "    new_lst.append((lst[-1],count)) # Return the last character (we didn't reach it with our for loop since indexing until second to last).\n",
    "\n",
    "\n",
    "    grouped = [char*count for [char, count] in new_lst] \n",
    "\n",
    "    return grouped\n",
    "\n",
    "def compress_group(string):\n",
    "    \"\"\"Returns a compressed two character string containing a character and a number.\n",
    "    \n",
    "    Takes in a string of identical characters and returns the compressed string \n",
    "    consisting of the character and the length of the original string.\n",
    "    \n",
    "    Example\n",
    "    -------\n",
    "    \"AAA\"-->\"A3\"\n",
    "\n",
    "    Parameters:\n",
    "    -----------\n",
    "    Input:\n",
    "    string: str\n",
    "    A string of identical characters.\n",
    "    \n",
    "    Output:\n",
    "    ------\n",
    "    compressed_str: str\n",
    "    A compressed string of length two containing a character and a number.\n",
    "    \"\"\"\n",
    "    \n",
    "\n",
    "    return str(string[0]) + str(len(string))\n",
    "\n",
    "\n",
    "def compress(string):\n",
    "    \"\"\"Returns a compressed representation of a string.\n",
    "    \n",
    "    Compresses the string by mapping each run of identical characters to a \n",
    "    single character and a count. \n",
    "    \n",
    "    Ex.\n",
    "    --\n",
    "    compress('AAABBCDDD')--> 'A3B2C1D3'.\n",
    "    \n",
    "    Only compresses string if the compression is shorter than the original string.\n",
    "\n",
    "    Ex.\n",
    "    --\n",
    "    compress('A')--> 'A' # not 'A1'.\n",
    "\n",
    "    Parameters\n",
    "    ----------\n",
    "\n",
    "    Input:\n",
    "    string: str\n",
    "    The string to compress\n",
    "\n",
    "    Output:\n",
    "    compressed: str\n",
    "    The compressed representation of the string.\n",
    "    \"\"\"\n",
    "\n",
    "    try:\n",
    "        split_str = [char for char in string] # Create list of single characters.\n",
    "        grouped = groupby_char(split_str) # Group characters if characters are identical.\n",
    "        compressed = ''.join( # Compress each element of the grouped list and join to a string.\n",
    "                [compress_group(elem) for elem in grouped])\n",
    "\n",
    "        if len(compressed) < len(string): # Only return compressed if compressed is actually shorter.\n",
    "            return compressed\n",
    "        else:\n",
    "            return string\n",
    "\n",
    "    except IndexError: # If our input string is empty, return an empty string.\n",
    "        return \"\"\n",
    "\n",
    "    except TypeError: # If we get something that's not compressible (including NoneType) return None.\n",
    "        return None\n",
    "\n"
   ]
  },
  {
   "cell_type": "code",
   "execution_count": 69,
   "metadata": {
    "collapsed": false
   },
   "outputs": [
    {
     "ename": "ImportError",
     "evalue": "No module named 'compress'",
     "output_type": "error",
     "traceback": [
      "\u001b[1;31m---------------------------------------------------------------------------\u001b[0m",
      "\u001b[1;31mImportError\u001b[0m                               Traceback (most recent call last)",
      "\u001b[1;32m<ipython-input-69-43020d6ff834>\u001b[0m in \u001b[0;36m<module>\u001b[1;34m()\u001b[0m\n\u001b[0;32m      2\u001b[0m \u001b[1;31m# This will fail to run because in wrong directory\u001b[0m\u001b[1;33m\u001b[0m\u001b[1;33m\u001b[0m\u001b[0m\n\u001b[0;32m      3\u001b[0m \u001b[1;33m\u001b[0m\u001b[0m\n\u001b[1;32m----> 4\u001b[1;33m \u001b[1;32mfrom\u001b[0m \u001b[0mcompress\u001b[0m\u001b[1;33m.\u001b[0m\u001b[0mcompressor\u001b[0m \u001b[1;32mimport\u001b[0m \u001b[1;33m*\u001b[0m\u001b[1;33m\u001b[0m\u001b[0m\n\u001b[0m\u001b[0;32m      5\u001b[0m \u001b[1;33m\u001b[0m\u001b[0m\n\u001b[0;32m      6\u001b[0m \u001b[1;32mdef\u001b[0m \u001b[0mcompress_test\u001b[0m\u001b[1;33m(\u001b[0m\u001b[1;33m)\u001b[0m\u001b[1;33m:\u001b[0m\u001b[1;33m\u001b[0m\u001b[0m\n",
      "\u001b[1;31mImportError\u001b[0m: No module named 'compress'"
     ]
    }
   ],
   "source": [
    "# %load ../scripts/compress/compress_tests.py\n",
    "# This will fail to run because in wrong directory\n",
    "\n",
    "from compress.compressor import *\n",
    "\n",
    "def compress_test():\n",
    "    assert compress('AAABBCDDD') == 'A3B2C1D3'\n",
    "    assert compress('A') == 'A'\n",
    "    assert compress('') == ''\n",
    "    assert compress('AABBCC') == 'AABBCC' # compressing doesn't shorten string so just return string.\n",
    "    assert compress(None) == None\n",
    "\n",
    "def groupby_char_test():\n",
    "    assert groupby_char([\"A\", \"A\", \"A\", \"B\", \"B\"]) == [\"AAA\", \"BB\"]\n",
    "\n",
    "def compress_group_test():\n",
    "    assert compress_group(\"AAA\") == \"A3\"\n",
    "    assert compress_group(\"A\") == \"A1\"\n"
   ]
  },
  {
   "cell_type": "markdown",
   "metadata": {},
   "source": []
  }
 ],
 "metadata": {
  "kernelspec": {
   "display_name": "Python 3",
   "language": "python",
   "name": "python3"
  },
  "language_info": {
   "codemirror_mode": {
    "name": "ipython",
    "version": 3
   },
   "file_extension": ".py",
   "mimetype": "text/x-python",
   "name": "python",
   "nbconvert_exporter": "python",
   "pygments_lexer": "ipython3",
   "version": "3.5.0"
  }
 },
 "nbformat": 4,
 "nbformat_minor": 0
}
