{
 "cells": [
  {
   "cell_type": "code",
   "execution_count": null,
   "metadata": {
    "collapsed": true
   },
   "outputs": [],
   "source": [
    "def tuple_full():\n",
    "   count_dict = {}\n",
    "   filename = input(\"input filename \"  )\n",
    "   file = open(filename, 'r')\n",
    "\n",
    "   for line in file:\n",
    "       lst = line.split(\" \")\n",
    "       if lst[0] == \"From\":\n",
    "           \n",
    "\n",
    "           if lst[1] in count_dict:\n",
    "               count_dict[lst[1]] += 1\n",
    "           else:\n",
    "               count_dict.update({lst[1]: 1})\n",
    "\t\n",
    "\tc_tup = count_dict.items()\n",
    "\tprint(c_tup)"
   ]
  }
 ],
 "metadata": {
  "kernelspec": {
   "display_name": "Python 3",
   "language": "python",
   "name": "python3"
  },
  "language_info": {
   "codemirror_mode": {
    "name": "ipython",
    "version": 3
   },
   "file_extension": ".py",
   "mimetype": "text/x-python",
   "name": "python",
   "nbconvert_exporter": "python",
   "pygments_lexer": "ipython3",
   "version": "3.4.3"
  }
 },
 "nbformat": 4,
 "nbformat_minor": 0
}
